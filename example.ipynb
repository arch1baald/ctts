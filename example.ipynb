{
 "cells": [
  {
   "cell_type": "code",
   "execution_count": null,
   "metadata": {
    "colab": {
     "base_uri": "https://localhost:8080/"
    },
    "id": "TLGMAct-fvFp",
    "outputId": "80645f0d-16b7-4498-eba6-e61d34f7d395"
   },
   "outputs": [],
   "source": [
    "!pip install --upgrade git+https://github.com/arch1baald/ctts.git"
   ]
  },
  {
   "cell_type": "code",
   "execution_count": null,
   "metadata": {
    "id": "1kTKPyF7fybF"
   },
   "outputs": [],
   "source": [
    "api_keys = \"\"\"\n",
    "OPENAI__API_KEY=\n",
    "ELEVENLABS__API_KEY=\n",
    "REPLICATE__API_KEY=\n",
    "\"\"\"\n",
    "with open('.env', 'w') as fout:\n",
    "    fout.write(api_keys)"
   ]
  },
  {
   "cell_type": "code",
   "execution_count": null,
   "metadata": {},
   "outputs": [],
   "source": [
    "import ctts\n",
    "from IPython.display import Audio\n",
    "\n",
    "audio = ctts.openai.generate('Hello, world!', 'echo')\n",
    "Audio(audio)"
   ]
  },
  {
   "cell_type": "code",
   "execution_count": null,
   "metadata": {
    "colab": {
     "base_uri": "https://localhost:8080/",
     "height": 693
    },
    "id": "ZzVBNsNR2qVX",
    "outputId": "4e8bc1f1-c427-4b7f-9bf6-3daa24101478"
   },
   "outputs": [],
   "source": [
    "import ctts\n",
    "\n",
    "res = await ctts.utils.batch_agenerate([\n",
    "    (ctts.openai.agenerate, \"Hello, World!\"),\n",
    "    (ctts.kokoro.agenerate, \"Hello, World!\", {'voice': ctts.kokoro.Voice.AF_JESSICA}),\n",
    "])"
   ]
  },
  {
   "cell_type": "code",
   "execution_count": null,
   "metadata": {},
   "outputs": [],
   "source": []
  }
 ],
 "metadata": {
  "colab": {
   "provenance": []
  },
  "kernelspec": {
   "display_name": "Python 3",
   "name": "python3"
  },
  "language_info": {
   "name": "python"
  }
 },
 "nbformat": 4,
 "nbformat_minor": 0
}
