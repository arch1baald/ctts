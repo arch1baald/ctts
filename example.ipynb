{
 "cells": [
  {
   "cell_type": "code",
   "execution_count": null,
   "metadata": {
    "colab": {
     "base_uri": "https://localhost:8080/"
    },
    "id": "TLGMAct-fvFp",
    "outputId": "80645f0d-16b7-4498-eba6-e61d34f7d395"
   },
   "outputs": [],
   "source": [
    "!pip install --upgrade git+https://github.com/arch1baald/ctts.git"
   ]
  },
  {
   "cell_type": "code",
   "execution_count": null,
   "metadata": {
    "id": "1kTKPyF7fybF"
   },
   "outputs": [],
   "source": [
    "# Leave blank if you don't have a key\n",
    "api_keys = \"\"\"\n",
    "OPENAI__API_KEY=\n",
    "OPENAI__ORGANIZATION_ID=\n",
    "ELEVENLABS__API_KEY=\n",
    "REPLICATE__API_KEY=\n",
    "ZYPHRA__API_KEY=\n",
    "HUME__API_KEY=\n",
    "CARTESIA__API_KEY=\n",
    "\"\"\"\n",
    "with open('.env', 'w') as fout:\n",
    "    fout.write(api_keys)"
   ]
  },
  {
   "cell_type": "code",
   "execution_count": null,
   "metadata": {},
   "outputs": [],
   "source": [
    "import ctts\n",
    "from IPython.display import Audio\n",
    "\n",
    "audio = ctts.openai.generate('Hello, world!', 'echo')\n",
    "Audio(audio)"
   ]
  },
  {
   "cell_type": "code",
   "execution_count": null,
   "metadata": {
    "colab": {
     "base_uri": "https://localhost:8080/",
     "height": 693
    },
    "id": "ZzVBNsNR2qVX",
    "outputId": "4e8bc1f1-c427-4b7f-9bf6-3daa24101478"
   },
   "outputs": [],
   "source": [
    "from ctts.utils import batch_generate, random_choice_enum\n",
    "\n",
    "text = \"Hello, world!\"\n",
    "\n",
    "batch = [\n",
    "    (ctts.openai.generate, text, {\"voice\": random_choice_enum(ctts.openai.Voice), \"model\": random_choice_enum(ctts.openai.Model)}),\n",
    "    (ctts.elevenlabs.generate, text, {\"voice\": random_choice_enum(ctts.elevenlabs.Voice), \"model\": random_choice_enum(ctts.elevenlabs.Model)}),\n",
    "    (ctts.cartesia.generate, text, {\"voice\": random_choice_enum(ctts.cartesia.Voice), \"model\": random_choice_enum(ctts.cartesia.Model)}),\n",
    "    (ctts.hume.generate, text),\n",
    "    (ctts.kokoro.generate, text, {\"voice\": random_choice_enum(ctts.kokoro.Voice), \"model\": random_choice_enum(ctts.kokoro.Model)}),\n",
    "    (ctts.zyphra.generate, text, {\"voice\": random_choice_enum(ctts.zyphra.Voice), \"model\": random_choice_enum(ctts.zyphra.Model)}),\n",
    "]\n",
    "\n",
    "res = batch_generate(batch)"
   ]
  },
  {
   "cell_type": "code",
   "execution_count": null,
   "metadata": {},
   "outputs": [],
   "source": []
  }
 ],
 "metadata": {
  "colab": {
   "provenance": []
  },
  "kernelspec": {
   "display_name": "Python 3",
   "name": "python3"
  },
  "language_info": {
   "name": "python"
  }
 },
 "nbformat": 4,
 "nbformat_minor": 0
}
